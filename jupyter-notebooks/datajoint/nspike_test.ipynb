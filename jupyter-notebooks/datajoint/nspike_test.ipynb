{
 "cells": [
  {
   "cell_type": "code",
   "execution_count": 14,
   "metadata": {},
   "outputs": [],
   "source": [
    "# This snippet of code properly adds the working source root path to python's path\n",
    "# so you no longer have to install spykshrk through setuptools\n",
    "import sys, os\n",
    "root_depth = 2\n",
    "notebook_dir = globals()['_dh'][0]\n",
    "root_path = os.path.abspath(os.path.join(notebook_dir, '../'*root_depth))\n",
    "# Add to python's path\n",
    "try:\n",
    "    while True:\n",
    "        sys.path.remove(root_path)\n",
    "except ValueError:\n",
    "    # no more root paths\n",
    "    pass\n",
    "sys.path.append(root_path)\n",
    "# Alternatively set root path as current working directory\n",
    "#os.chdir(root_path)"
   ]
  },
  {
   "cell_type": "code",
   "execution_count": 28,
   "metadata": {},
   "outputs": [],
   "source": [
    "# To start mysql docker: sudo docker-compose up -d\n",
    "\n",
    "import datajoint as dj\n",
    "import os\n",
    "import sys\n",
    "import json\n",
    "import re\n",
    "import warnings\n",
    "import traceback\n",
    "import glob\n",
    "from scipy.io import loadmat\n",
    "import importlib\n",
    "import spykshrk.franklab.pipeline.nspike_schema as ns\n",
    "\n",
    "importlib.reload(ns)"
   ]
  },
  {
   "cell_type": "code",
   "execution_count": 19,
   "metadata": {},
   "outputs": [],
   "source": [
    "ns.schema.drop()"
   ]
  },
  {
   "cell_type": "code",
   "execution_count": 21,
   "metadata": {},
   "outputs": [],
   "source": [
    "%%time\n",
    "ns.WarningTable.suppress_warning = True\n",
    "anim = ns.Animal()\n",
    "anim.insert1({'anim_name': 'Bond', 'anim_name_short': 'bon', 'anim_path_raw': '/opt/data/daliu/other/mkarlsso/bond/', \n",
    "              'anim_path_mat': '/opt/data/daliu/other/mkarlsso/Bon/'}, skip_duplicates=True)\n",
    "display(anim)\n",
    "day = ns.Day()\n",
    "day.populate()\n",
    "display(day)\n",
    "epoch = ns.Epoch()\n",
    "epoch.populate()\n",
    "display(epoch)\n",
    "tet = ns.Tetrode()\n",
    "tet.populate()\n",
    "display(tet)\n",
    "tet_ep = ns.TetrodeEpoch()\n",
    "tet_ep.populate()\n",
    "display(tet_ep)\n",
    "lfp = ns.LFP()\n",
    "lfp.populate()\n",
    "display(lfp)\n",
    "lfp_raw = ns.LFPRaw()\n",
    "lfp_raw.populate()\n",
    "display(lfp_raw)\n",
    "lfp_gnd = ns.LFPGnd()\n",
    "lfp_gnd.populate()\n",
    "display(lfp_gnd)"
   ]
  },
  {
   "cell_type": "code",
   "execution_count": 22,
   "metadata": {},
   "outputs": [],
   "source": [
    "ns.WarningTable()"
   ]
  },
  {
   "cell_type": "code",
   "execution_count": 54,
   "metadata": {},
   "outputs": [],
   "source": [
    "ns.RippleDetectionConfig().drop()\n",
    "importlib.reload(ns)"
   ]
  },
  {
   "cell_type": "code",
   "execution_count": 51,
   "metadata": {},
   "outputs": [],
   "source": [
    "mat = loadmat('/opt/data/daliu/other/mkarlsso/Bon/bonripplescons03.mat')\n",
    "mat['ripplescons'][0][2][0][1][0][0][0]['smoothwin'][0][0]"
   ]
  },
  {
   "cell_type": "code",
   "execution_count": 55,
   "metadata": {},
   "outputs": [],
   "source": [
    "rip_config = ns.RippleDetectionConfig()\n",
    "rip = ns.RippleConsInterval()\n",
    "rip.populate()\n",
    "rip   "
   ]
  },
  {
   "cell_type": "code",
   "execution_count": null,
   "metadata": {},
   "outputs": [],
   "source": [
    "rip_config.drop()"
   ]
  },
  {
   "cell_type": "code",
   "execution_count": 62,
   "metadata": {},
   "outputs": [],
   "source": [
    "rip.populate()"
   ]
  },
  {
   "cell_type": "code",
   "execution_count": 47,
   "metadata": {},
   "outputs": [],
   "source": [
    "rip_config"
   ]
  },
  {
   "cell_type": "code",
   "execution_count": 21,
   "metadata": {},
   "outputs": [],
   "source": [
    "rip.LFPSource()"
   ]
  },
  {
   "cell_type": "code",
   "execution_count": 184,
   "metadata": {},
   "outputs": [],
   "source": [
    "dj.ERD(schema)"
   ]
  },
  {
   "cell_type": "code",
   "execution_count": null,
   "metadata": {},
   "outputs": [],
   "source": []
  }
 ],
 "metadata": {
  "git": {
   "suppress_outputs": true
  },
  "kernelspec": {
   "display_name": "Python 3",
   "language": "python",
   "name": "python3"
  },
  "language_info": {
   "codemirror_mode": {
    "name": "ipython",
    "version": 3
   },
   "file_extension": ".py",
   "mimetype": "text/x-python",
   "name": "python",
   "nbconvert_exporter": "python",
   "pygments_lexer": "ipython3",
   "version": "3.7.1"
  }
 },
 "nbformat": 4,
 "nbformat_minor": 2
}