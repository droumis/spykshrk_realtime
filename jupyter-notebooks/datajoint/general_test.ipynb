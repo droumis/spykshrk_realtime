{
 "cells": [
  {
   "cell_type": "code",
   "execution_count": 1,
   "metadata": {},
   "outputs": [],
   "source": [
    "# To start mysql docker: sudo docker-compose up -d\n",
    "\n",
    "import datajoint as dj\n",
    "import os\n",
    "import sys\n",
    "import json\n"
   ]
  },
  {
   "cell_type": "code",
   "execution_count": 2,
   "metadata": {},
   "outputs": [],
   "source": [
    "root_path = os.path.abspath(os.path.join(globals()['_dh'][0], '../..'))"
   ]
  },
  {
   "cell_type": "code",
   "execution_count": 3,
   "metadata": {},
   "outputs": [],
   "source": [
    "local_cred_filename = os.path.join(root_path, 'datajoint/local_cred.ini')\n",
    "with open(local_cred_filename) as f:\n",
    "    local_cred = json.load(f)"
   ]
  },
  {
   "cell_type": "code",
   "execution_count": 4,
   "metadata": {},
   "outputs": [],
   "source": [
    "local_cred"
   ]
  },
  {
   "cell_type": "code",
   "execution_count": 5,
   "metadata": {},
   "outputs": [],
   "source": [
    "cred_filename = \"~/\"\n",
    "\n",
    "dj.config['database.host'] = local_cred['host']\n",
    "dj.config['database.user'] = local_cred['user']\n",
    "dj.config['database.password'] = local_cred['password']"
   ]
  },
  {
   "cell_type": "code",
   "execution_count": 6,
   "metadata": {},
   "outputs": [],
   "source": [
    "schema = dj.schema('test', locals())"
   ]
  },
  {
   "cell_type": "code",
   "execution_count": 7,
   "metadata": {},
   "outputs": [],
   "source": [
    "schema = dj.schema('test', locals())\n",
    "schema.drop()\n",
    "schema = dj.schema('test', locals())"
   ]
  },
  {
   "cell_type": "code",
   "execution_count": 74,
   "metadata": {},
   "outputs": [],
   "source": [
    "parent.drop()\n",
    "child.drop()"
   ]
  },
  {
   "cell_type": "code",
   "execution_count": 9,
   "metadata": {},
   "outputs": [],
   "source": [
    "# Testing multiple  \n",
    "\n",
    "@schema\n",
    "class Parent(dj.Manual):\n",
    "    definition = \"\"\"\n",
    "    parent_id: int\n",
    "    ---\n",
    "    parent_data = NULL: varchar(20)\n",
    "    \"\"\"\n",
    "\n",
    "@schema\n",
    "class Middle(dj.Manual):\n",
    "    definition = \"\"\"\n",
    "    -> Parent\n",
    "    middle_id: int\n",
    "    ---\n",
    "    middle_data: varchar(20)\n",
    "    \"\"\"\n",
    "    \n",
    "@schema\n",
    "class Child(dj.Manual):\n",
    "    definition = \"\"\"\n",
    "    child_id: int\n",
    "    ---\n",
    "    child_data: varchar(20)\n",
    "    \"\"\"\n",
    "    \n",
    "    class ParentSrc(dj.Part):\n",
    "        definition = \"\"\"\n",
    "        -> Middle\n",
    "        -> Child\n",
    "        \"\"\""
   ]
  },
  {
   "cell_type": "markdown",
   "metadata": {},
   "source": [
    "## Testing many to one relationship"
   ]
  },
  {
   "cell_type": "code",
   "execution_count": 10,
   "metadata": {},
   "outputs": [],
   "source": [
    "parent = Parent()\n",
    "middle = Middle()\n",
    "child = Child()"
   ]
  },
  {
   "cell_type": "code",
   "execution_count": 11,
   "metadata": {},
   "outputs": [],
   "source": [
    "parent.insert([{'parent_id': 0, 'parent_data': 'stuff0'}])\n",
    "parent.insert1({'parent_id': 1})\n",
    "parent.insert([{'parent_id': 2}])\n",
    "parent.insert1({'parent_id': 3, 'parent_data': 'stuff3'})\n",
    "parent.insert1({'parent_id': 10, 'parent_data': 'stuff10'})\n",
    "parent"
   ]
  },
  {
   "cell_type": "code",
   "execution_count": 12,
   "metadata": {},
   "outputs": [],
   "source": [
    "p_id, p_data = parent.fetch('parent_id', 'parent_data')\n"
   ]
  },
  {
   "cell_type": "code",
   "execution_count": 13,
   "metadata": {},
   "outputs": [],
   "source": [
    "middle.insert([{'parent_id': 0, 'middle_id': 0, 'middle_data': 'mid0'},\n",
    "               {'parent_id': 1, 'middle_id': 1, 'middle_data': 'mid1'}])\n",
    "middle"
   ]
  },
  {
   "cell_type": "code",
   "execution_count": 14,
   "metadata": {},
   "outputs": [],
   "source": [
    "child.insert([{'child_id': 0, 'child_data': 'more0'},\n",
    "              {'child_id': 1, 'child_data': 'more1'}])\n",
    "child"
   ]
  },
  {
   "cell_type": "code",
   "execution_count": 15,
   "metadata": {},
   "outputs": [],
   "source": [
    "child.ParentSrc.insert([{'parent_id': 0, 'middle_id': 0, 'child_id': 0},\n",
    "                        {'parent_id': 1, 'middle_id': 1, 'child_id': 0},\n",
    "                        {'parent_id': 0, 'middle_id': 0, 'child_id': 1},\n",
    "                        {'parent_id': 1, 'middle_id': 1, 'child_id': 1}])\n",
    "child.ParentSrc()"
   ]
  },
  {
   "cell_type": "code",
   "execution_count": 16,
   "metadata": {},
   "outputs": [],
   "source": [
    "(child.ParentSrc() & 'child_id = 0') * child * parent"
   ]
  },
  {
   "cell_type": "markdown",
   "metadata": {},
   "source": [
    "## Testing more realistic setup with many to one"
   ]
  },
  {
   "cell_type": "code",
   "execution_count": 114,
   "metadata": {},
   "outputs": [],
   "source": [
    "@schema\n",
    "class Env(dj.Manual):\n",
    "    definition = \"\"\"\n",
    "    env_key: varchar(20)\n",
    "    ---\n",
    "    parent_data = NULL: varchar(20)\n",
    "    env_key: varchar(20)\n",
    "    \"\"\"\n",
    "\n",
    "@schema\n",
    "class Epoch(dj.Manual):\n",
    "    definition = \"\"\"\n",
    "    epoch_name: varchar(20)\n",
    "    ---\n",
    "    epoch_data = NULL: varchar(20)\n",
    "    \"\"\"\n",
    "\n",
    "    \n",
    "@schema\n",
    "class Task1(dj.Manual):\n",
    "    definition = \"\"\"\n",
    "    -> Env\n",
    "    -> Epoch\n",
    "    task1_id: int\n",
    "    ---\n",
    "    task1_data = NULL: int\n",
    "    \"\"\"\n",
    "\n",
    "    \n",
    "@schema\n",
    "class Task2(dj.Manual):\n",
    "    definition = \"\"\"\n",
    "    -> Env\n",
    "    -> Epoch\n",
    "    task2_id: int\n",
    "    ---\n",
    "    task2_data = NULL: int\n",
    "    \"\"\"    \n",
    "\n",
    "@schema\n",
    "class Tet(dj.Manual):\n",
    "    definition = \"\"\"\n",
    "    -> Epoch\n",
    "    tet_id: int\n",
    "    ---\n",
    "    tet_data = NULL: varchar(20)\n",
    "    \"\"\"\n",
    "    \n",
    "@schema\n",
    "class LFP(dj.Manual):\n",
    "    definition = \"\"\"\n",
    "    -> Tet\n",
    "    ---\n",
    "    lfp_data = NULL: varchar(20)\n",
    "    \"\"\"\n",
    "    \n",
    "@schema\n",
    "class RipplesCons(dj.Manual):\n",
    "    definition = \"\"\"\n",
    "    -> Epoch\n",
    "    ---\n",
    "    rip_cons_data = NULL: varchar(20)\n",
    "    \"\"\"\n",
    "    class LFPSrc(dj.Part):\n",
    "        definition = \"\"\"\n",
    "        -> RipplesCons\n",
    "        -> LFP\n",
    "        ---\n",
    "        \"\"\""
   ]
  },
  {
   "cell_type": "code",
   "execution_count": 109,
   "metadata": {},
   "outputs": [],
   "source": [
    "ep.drop(); env.drop()"
   ]
  },
  {
   "cell_type": "code",
   "execution_count": 85,
   "metadata": {},
   "outputs": [],
   "source": [
    "ep = Epoch(); env = Env(); t1 = Task1(); t2 = Task2(); tet = Tet()"
   ]
  },
  {
   "cell_type": "code",
   "execution_count": 86,
   "metadata": {},
   "outputs": [],
   "source": [
    "ep.insert1(['one', 'data1'])\n",
    "ep.insert1(['two', 'data2'])\n",
    "env.insert1(['env1','more1'])\n",
    "env.insert1(['env2','more2'])\n",
    "t1.insert1(['env1', 'one', 1, 1])\n",
    "t2.insert1(['env2', 'two', 2, 2])\n",
    "tet.insert1(['one', 1, 'tetdata1'])"
   ]
  },
  {
   "cell_type": "code",
   "execution_count": 87,
   "metadata": {},
   "outputs": [],
   "source": [
    "display(ep)\n",
    "display(env)\n",
    "display(t1)\n",
    "display(t2)\n",
    "display(tet)"
   ]
  },
  {
   "cell_type": "code",
   "execution_count": 95,
   "metadata": {},
   "outputs": [],
   "source": [
    "tet"
   ]
  },
  {
   "cell_type": "code",
   "execution_count": 122,
   "metadata": {},
   "outputs": [],
   "source": [
    "dj.ERD(schema)"
   ]
  },
  {
   "cell_type": "markdown",
   "metadata": {},
   "source": [
    "## Testing auto_increment"
   ]
  },
  {
   "cell_type": "code",
   "execution_count": 143,
   "metadata": {},
   "outputs": [],
   "source": [
    "@schema\n",
    "class Auto(dj.Lookup):\n",
    "    definition = \"\"\"\n",
    "    id  :int auto_increment\n",
    "    ---\n",
    "    name :varchar(12)\n",
    "    \"\"\"\n",
    "    contents = (\n",
    "        dict(name=\"Godel\"),\n",
    "        dict(name=\"Escher\"),\n",
    "        dict(name=\"Bach\")\n",
    "    )"
   ]
  },
  {
   "cell_type": "code",
   "execution_count": 18,
   "metadata": {},
   "outputs": [],
   "source": [
    "@schema\n",
    "class Auto(dj.Manual):\n",
    "    definition = \"\"\"\n",
    "    id: int auto_increment\n",
    "    ---\n",
    "    name :varchar(12)\n",
    "    \"\"\"\n",
    "\n",
    "    def fill(self):\n",
    "        if not self:\n",
    "            self.insert([dict(name=\"Godel\"), dict(name=\"Escher\"), dict(name=\"Bach\")])\n",
    "\n",
    "Auto().insert([dict(name=\"Godel\"), dict(name=\"Escher\"), dict(name=\"Bach\")])"
   ]
  },
  {
   "cell_type": "code",
   "execution_count": 149,
   "metadata": {},
   "outputs": [],
   "source": [
    "Auto()"
   ]
  },
  {
   "cell_type": "markdown",
   "metadata": {},
   "source": [
    "## Testing table classmethods"
   ]
  },
  {
   "cell_type": "code",
   "execution_count": 10,
   "metadata": {},
   "outputs": [],
   "source": [
    "Test().drop()"
   ]
  },
  {
   "cell_type": "code",
   "execution_count": 52,
   "metadata": {},
   "outputs": [],
   "source": [
    "@schema\n",
    "class Above(dj.Manual):\n",
    "    definition = \"\"\"\n",
    "    above_id: int\n",
    "    \"\"\"\n",
    "    \n",
    "@schema\n",
    "class Test(dj.Imported):\n",
    "    definition = \"\"\"\n",
    "    ->Above\n",
    "    ---\n",
    "    my_data: varchar(20)\n",
    "    \"\"\"\n",
    "            \n",
    "    def make(self, key):\n",
    "        print(type(self).__name__)\n",
    "        \n",
    "    @classmethod\n",
    "    def change_var(cls, new_var):\n",
    "        print(type(cls))\n",
    "        cls.class_var = new_var\n",
    "\n",
    "    def test(self, new_var):\n",
    "        print(self)\n",
    "        print(type(self))\n",
    "        print(new_var)\n",
    "\n",
    "\n",
    "Test().change_var('mew')"
   ]
  },
  {
   "cell_type": "code",
   "execution_count": 55,
   "metadata": {},
   "outputs": [],
   "source": [
    "Above.insert1([2])\n",
    "Test().populate()"
   ]
  },
  {
   "cell_type": "code",
   "execution_count": 57,
   "metadata": {},
   "outputs": [],
   "source": [
    "Test.__name__"
   ]
  },
  {
   "cell_type": "code",
   "execution_count": 26,
   "metadata": {},
   "outputs": [],
   "source": [
    "Test()"
   ]
  },
  {
   "cell_type": "code",
   "execution_count": null,
   "metadata": {},
   "outputs": [],
   "source": []
  }
 ],
 "metadata": {
  "git": {
   "suppress_outputs": true
  },
  "kernelspec": {
   "display_name": "Python 3",
   "language": "python",
   "name": "python3"
  },
  "language_info": {
   "codemirror_mode": {
    "name": "ipython",
    "version": 3
   },
   "file_extension": ".py",
   "mimetype": "text/x-python",
   "name": "python",
   "nbconvert_exporter": "python",
   "pygments_lexer": "ipython3",
   "version": "3.7.1"
  }
 },
 "nbformat": 4,
 "nbformat_minor": 2
}