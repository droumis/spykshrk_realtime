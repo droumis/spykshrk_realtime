{
 "cells": [
  {
   "cell_type": "code",
   "execution_count": 35,
   "metadata": {},
   "outputs": [],
   "source": [
    "import functools\n",
    "import pickle\n",
    "import pandas as pd\n",
    "\n",
    "def partialclass(cls, *args, **kwds):\n",
    "\n",
    "    NewCls = type('_' + cls.__name__, (cls,),\n",
    "                  {'__init__': functools.partialmethod(cls.__init__, *args, **kwds),\n",
    "                   '__module__': __name__,\n",
    "                   'parent_class': cls})\n",
    "\n",
    "    return NewCls"
   ]
  },
  {
   "cell_type": "code",
   "execution_count": 27,
   "metadata": {},
   "outputs": [
    {
     "data": {
      "text/plain": [
       "'    \\n    def __call__(self, print_str):\\n        if self.__class__ is not self._parent_class:\\n            return self.__class__(print_str)\\n'"
      ]
     },
     "execution_count": 27,
     "metadata": {},
     "output_type": "execute_result"
    }
   ],
   "source": [
    "class TestClass:\n",
    "    def __init__(self, print_str, parent_class=None):\n",
    "        self.print_str = print_str\n",
    "        try:\n",
    "            getattr(self, '_parent_class')\n",
    "        except AttributeError:\n",
    "            self._parent_class = self.__class__\n",
    "    \n",
    "    def print_func(self):\n",
    "        print(self.print_str)\n",
    "        \n",
    "    \n",
    "    def __reduce__(self):\n",
    "        return (self._parent_class, (self.print_str ),) )\n",
    "'''    \n",
    "    def __call__(self, print_str):\n",
    "        if self.__class__ is not self._parent_class:\n",
    "            return self.__class__(print_str)\n",
    "'''"
   ]
  },
  {
   "cell_type": "code",
   "execution_count": 28,
   "metadata": {},
   "outputs": [],
   "source": [
    "test = TestClass('string')\n",
    "new_test = partialclass(type(test), print_str=test.print_str)()"
   ]
  },
  {
   "cell_type": "code",
   "execution_count": 29,
   "metadata": {},
   "outputs": [
    {
     "data": {
      "text/plain": [
       "__main__._TestClass"
      ]
     },
     "execution_count": 29,
     "metadata": {},
     "output_type": "execute_result"
    }
   ],
   "source": [
    "type(new_test)"
   ]
  },
  {
   "cell_type": "code",
   "execution_count": 30,
   "metadata": {},
   "outputs": [
    {
     "data": {
      "text/plain": [
       "__main__.TestClass"
      ]
     },
     "execution_count": 30,
     "metadata": {},
     "output_type": "execute_result"
    }
   ],
   "source": [
    "new_test._parent_class"
   ]
  },
  {
   "cell_type": "code",
   "execution_count": 31,
   "metadata": {},
   "outputs": [],
   "source": [
    "data = pickle.dumps(new_test)"
   ]
  },
  {
   "cell_type": "code",
   "execution_count": 32,
   "metadata": {},
   "outputs": [
    {
     "name": "stdout",
     "output_type": "stream",
     "text": [
      "('print_str', 'string')\n"
     ]
    }
   ],
   "source": [
    "load_test = pickle.loads(data)\n",
    "load_test.print_func()"
   ]
  },
  {
   "cell_type": "code",
   "execution_count": 33,
   "metadata": {},
   "outputs": [
    {
     "data": {
      "text/plain": [
       "__main__.TestClass"
      ]
     },
     "execution_count": 33,
     "metadata": {},
     "output_type": "execute_result"
    }
   ],
   "source": [
    "type(load_test)"
   ]
  },
  {
   "cell_type": "code",
   "execution_count": 61,
   "metadata": {},
   "outputs": [],
   "source": [
    "class DataFrameClass(pd.DataFrame):\n",
    "    _metadata = pd.DataFrame._metadata + ['kwds']\n",
    "    \n",
    "    def __init__(self, data=None, index=None, columns=None, dtype=None, copy=False, **kwds):\n",
    "        self.kwds = kwds\n",
    "        super().__init__(data, index, columns, dtype, copy)\n",
    "        print(self.__dict__)\n",
    "        if 'parent_class' not in type(self).__dict__:\n",
    "            print('new _parent_class')\n",
    "            setattr(self.__class__, 'parent_class', type(self))\n",
    "            \n",
    "    @property\n",
    "    def _constructor(self):\n",
    "        print('_constructor')\n",
    "        print('0: ', type(self).parent_class)\n",
    "        return partialclass(type(self), parent_class=type(self).parent_class, **self.kwds)\n"
   ]
  },
  {
   "cell_type": "code",
   "execution_count": 62,
   "metadata": {},
   "outputs": [
    {
     "name": "stdout",
     "output_type": "stream",
     "text": [
      "{'kwds': {}, '_is_copy': None, '_data': BlockManager\n",
      "Items: Index([], dtype='object')\n",
      "Axis 1: Index([], dtype='object'), '_item_cache': {}}\n",
      "new _parent_class\n",
      "_constructor\n",
      "0:  <class '__main__.DataFrameClass'>\n",
      "{'kwds': {'parent_class': <class '__main__.DataFrameClass'>}, '_is_copy': None, '_data': BlockManager\n",
      "Items: Index([], dtype='object')\n",
      "Axis 1: Index([], dtype='object'), '_item_cache': {}}\n"
     ]
    }
   ],
   "source": [
    "df = DataFrameClass([])\n",
    "df_copy = df.copy()"
   ]
  },
  {
   "cell_type": "code",
   "execution_count": 64,
   "metadata": {},
   "outputs": [
    {
     "data": {
      "text/plain": [
       "__main__.DataFrameClass"
      ]
     },
     "execution_count": 64,
     "metadata": {},
     "output_type": "execute_result"
    }
   ],
   "source": [
    "df_copy.parent_class"
   ]
  },
  {
   "cell_type": "code",
   "execution_count": null,
   "metadata": {},
   "outputs": [],
   "source": []
  }
 ],
 "metadata": {
  "kernelspec": {
   "display_name": "Python 3",
   "language": "python",
   "name": "python3"
  },
  "language_info": {
   "codemirror_mode": {
    "name": "ipython",
    "version": 3
   },
   "file_extension": ".py",
   "mimetype": "text/x-python",
   "name": "python",
   "nbconvert_exporter": "python",
   "pygments_lexer": "ipython3",
   "version": "3.7.1"
  }
 },
 "nbformat": 4,
 "nbformat_minor": 2
}
