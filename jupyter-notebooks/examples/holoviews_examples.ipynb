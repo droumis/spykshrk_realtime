{
 "cells": [
  {
   "cell_type": "code",
   "execution_count": 1,
   "metadata": {},
   "outputs": [],
   "source": [
    "import numpy as np\n",
    "import numpy.random\n",
    "import holoviews as hv\n",
    "import datashader as ds\n",
    "from holoviews.operation.datashader import aggregate, shade, datashade, dynspread, regrid\n",
    "\n",
    "import matplotlib.pyplot as plt\n",
    "hv.extension('matplotlib')\n",
    "hv.extension('bokeh')"
   ]
  },
  {
   "cell_type": "code",
   "execution_count": 2,
   "metadata": {},
   "outputs": [],
   "source": [
    "%%output backend='matplotlib'\n",
    "%opts Scatter3D {+framewise}\n",
    "%opts Overlay {+framewise}\n",
    "\n",
    "data = np.random.rand(100,3)\n",
    "\n",
    "def plot_func(elevation, azimuth):\n",
    "    scatter = hv.Scatter3D(data)\n",
    "              \n",
    "    scatter = scatter.opts({'Scatter3D':{'plot': {'fig_size':300, 'azimuth': azimuth, 'elevation':elevation},\n",
    "                                         'norm': {'framewise':True}}})\n",
    "    return scatter\n",
    "\n",
    "\n",
    "holo = hv.HoloMap({(e,a): plot_func(e,a) for e in range(0, 181, 20)\n",
    "                   for a in range(-90,91,20)}, kdims=['elev','azim'])\n",
    "holo"
   ]
  },
  {
   "cell_type": "code",
   "execution_count": 24,
   "metadata": {},
   "outputs": [],
   "source": [
    "%%output backend='matplotlib'\n",
    "\n",
    "data = np.random.rand(100,3)\n",
    "\n",
    "def plot_func(elevation, azimuth):\n",
    "    scatter = hv.Scatter3D(data)\n",
    "              \n",
    "    scatter = scatter.opts({'Scatter3D':{'plot': { 'azimuth': azimuth, 'elevation':elevation},\n",
    "                                         'norm': {'framewise':True}}})\n",
    "    return scatter\n",
    "\n",
    "scatter = hv.Scatter3D(data)\n",
    "\n",
    "dmap = hv.DynamicMap(callback=plot_func, kdims=['elevation', 'azimuth'], cache_size=1)\n",
    "dmap = dmap.redim.range(elevation=(0,180), azimuth=(-90,90)).opts(norm=dict(framewise=True))\n",
    "dmap"
   ]
  },
  {
   "cell_type": "code",
   "execution_count": 4,
   "metadata": {
    "scrolled": true
   },
   "outputs": [],
   "source": [
    "%%output backend='matplotlib'\n",
    "%opts Scatter3D {+framewise}\n",
    "%opts Overlay {+framewise}\n",
    "\n",
    "data = np.random.randint(0,100,[1000,3])\n",
    "\n",
    "def plot_func(xmax, ymax):\n",
    "    scatter = hv.Scatter3D(data[(data[:,0] > xmax) & (data[:,1] > ymax)])\n",
    "    \n",
    "    return scatter\n",
    "\n",
    "\n",
    "dmap = hv.DynamicMap(callback=plot_func, kdims=['xmax', 'ymax'], cache_size=1)\n",
    "dmap = dmap.redim.range(xmax=(0,100), ymax=(0,100)).opts(norm=dict(framewise=True))\n",
    "dmap"
   ]
  },
  {
   "cell_type": "code",
   "execution_count": 25,
   "metadata": {},
   "outputs": [],
   "source": [
    "%%output backend='matplotlib'\n",
    "\n",
    "from ipywidgets import interact, interactive\n",
    "from bokeh.io import push_notebook, show\n",
    "from ipykernel.pylab.backend_inline import flush_figures\n",
    "\n",
    "renderer = hv.renderer('matplotlib')\n",
    "plot = (renderer.get_plot(scatter))\n",
    "\n",
    "data2 = np.random.randint(0,100,[1000,3])\n",
    "\n",
    "scatter2 = hv.Scatter3D(data2)\n",
    "\n",
    "renderer = hv.renderer('matplotlib')\n",
    "plot = (renderer.get_plot(scatter2))\n",
    "\n",
    "def update(a, e):\n",
    "    print(a, e)\n",
    "    plot.elevation = e\n",
    "    plot.azimuth = a\n",
    "    plot.update(0)\n",
    "    print(plot.elevation)\n",
    "    display(plot)\n",
    "\n",
    "interactive_plot = interactive(update, a=(-180,180,1), e=(0,180,1))\n",
    "output = interactive_plot.children[-1]\n",
    "output.layout.height='400px'\n",
    "display(interactive_plot)"
   ]
  },
  {
   "cell_type": "code",
   "execution_count": 26,
   "metadata": {},
   "outputs": [],
   "source": [
    "%%opts Curve [height=200 width=400 aspect=2]\n",
    "%%opts ErrorBars [height=200 width=400 aspect=2]\n",
    "%%output backend='matplotlib' size=200\n",
    "\n",
    "plt.switch_backend('pdf')\n",
    "\n",
    "arr_a = np.random.rand(10)\n",
    "arr_b = np.random.rand(10)\n",
    "\n",
    "nd1 = {}\n",
    "nd1['one'] = hv.Curve((np.arange(10), arr_a))\n",
    "nd1['two'] = hv.Curve((np.arange(10)+0.1, arr_b))\n",
    "\n",
    "nd2 = {}\n",
    "nd2['one'] = hv.ErrorBars(( np.hstack([np.arange(10)[:,np.newaxis], arr_a[:, np.newaxis], np.random.rand(10,2)])))\n",
    "nd2['two'] = hv.ErrorBars(( np.hstack([(np.arange(10)+0.1)[:,np.newaxis], arr_b[:, np.newaxis]+0.1, np.random.rand(10,2)])))\n",
    "\n",
    "\n",
    "ndover1 = hv.NdOverlay(nd1)\n",
    "ndover2 = hv.NdOverlay(nd2)\n",
    "\n",
    "ndover1 * ndover2\n"
   ]
  },
  {
   "cell_type": "code",
   "execution_count": 27,
   "metadata": {
    "scrolled": false
   },
   "outputs": [],
   "source": [
    "%%opts Curve {+framewise} [height=200 width=350 aspect=2]\n",
    "%%opts ErrorBars {+framewise} [height=200 width=350 aspect=2]\n",
    "%%output backend='bokeh' size=200 holomap='scrubber'\n",
    "\n",
    "data1 = np.hstack([np.arange(10000)[:,np.newaxis], np.random.rand(10000,3)])\n",
    "tab1 = hv.Table(data1, kdims='x', vdims=['y','yerr+','yerr-'])\n",
    "data2 = np.hstack([np.arange(10000)[:,np.newaxis]+0.1, np.random.rand(10000,3)])\n",
    "tab2 = hv.Table(data2, kdims='x', vdims=['y','yerr+','yerr-'])\n",
    "\n",
    "def plot(start_time, end_time):\n",
    "    nd1 = {}\n",
    "    tab1sel = tab1[0:end_time]\n",
    "    tab2sel = tab2[0:end_time]\n",
    "    extents = (start_time, None, end_time, None)\n",
    "    nd1['one'] = tab1sel.to.curve(kdims=['x'], vdims=['y'], extents=extents)\n",
    "    nd1['one'].redim(x={'range':(start_time, end_time)})\n",
    "    nd1['two'] = tab2sel.to.curve(kdims=['x'], vdims=['y'], extents=extents)\n",
    "    nd1['two'].redim(x={'range':(start_time, end_time)})\n",
    "    \n",
    "    nd2 = {}\n",
    "    nd2['one'] = tab1sel.to.errorbars(kdims=['x'], vdims=['y','yerr+','yerr-'], extents=extents)\n",
    "    nd2['two'] = tab2sel.to.errorbars(kdims=['x'], vdims=['y','yerr+','yerr-'], extents=extents)\n",
    "\n",
    "\n",
    "    ndover1 = hv.NdOverlay(nd1)\n",
    "    ndover1.redim.range(x=(start_time, end_time))\n",
    "    ndover2 = hv.NdOverlay(nd2)\n",
    "    ndover2.redim.range(x=(start_time, end_time))\n",
    "    \n",
    "    over = ndover1 * ndover2\n",
    "    over.redim.range(x=(start_time,end_time))\n",
    "    return over\n",
    "\n",
    "dmap = hv.DynamicMap(plot, kdims=[hv.Dimension('start_time', range=(0,10000)), hv.Dimension('end_time', range=(0,10000))])\n",
    "\n",
    "dmap"
   ]
  },
  {
   "cell_type": "code",
   "execution_count": 8,
   "metadata": {
    "scrolled": false
   },
   "outputs": [],
   "source": [
    "%%opts Curve {+framewise}\n",
    "%%output backend='bokeh'\n",
    "\n",
    "data1 = np.hstack([np.arange(10000)[:,np.newaxis], np.random.rand(10000,3)])\n",
    "data1 = np.vstack([data1[0:5000], data1[5100:10000]])\n",
    "tab1 = hv.Table(data1, kdims='x', vdims=['y','yerr+','yerr-'])\n",
    "\n",
    "def plot(start_time):\n",
    "    tab1sel = tab1[start_time: start_time+10]\n",
    "    curv = tab1sel.to.curve(extents=(start_time, None, start_time+10, None))\n",
    "    \n",
    "    return curv\n",
    "\n",
    "dmap = hv.DynamicMap(plot, kdims=[hv.Dimension('start_time', range=(0,10000))])\n",
    "\n",
    "dmap"
   ]
  },
  {
   "cell_type": "code",
   "execution_count": 9,
   "metadata": {},
   "outputs": [],
   "source": [
    "import numpy as np\n",
    "import holoviews as hv\n",
    "import datashader as ds\n",
    "from holoviews.operation.datashader import aggregate, shade, datashade, dynspread\n",
    "from holoviews.operation import decimate\n",
    "hv.extension('bokeh')\n",
    "decimate.max_samples=1000\n",
    "dynspread.max_px=20\n",
    "dynspread.threshold=0.5\n",
    "\n",
    "def random_walk(n, f=5000):\n",
    "    \"\"\"Random walk in a 2D space, smoothed with a filter of length f\"\"\"\n",
    "    xs = np.convolve(np.random.normal(0, 0.1, size=n), np.ones(f)/f).cumsum()\n",
    "    ys = np.convolve(np.random.normal(0, 0.1, size=n), np.ones(f)/f).cumsum()\n",
    "    xs += 0.1*np.sin(0.1*np.array(range(n-1+f))) # add wobble on x axis\n",
    "    xs += np.random.normal(0, 0.005, size=n-1+f) # add measurement noise\n",
    "    ys += np.random.normal(0, 0.005, size=n-1+f)\n",
    "    return np.column_stack([xs, ys])\n",
    "\n",
    "def random_cov():\n",
    "    \"\"\"Random covariance for use in generating 2D Gaussian distributions\"\"\"\n",
    "    A = np.random.randn(2,2)\n",
    "    return np.dot(A, A.T)\n",
    "\n",
    "def time_series(T = 1, N = 100, mu = 0.1, sigma = 0.1, S0 = 20):  \n",
    "    \"\"\"Parameterized noisy time series\"\"\"\n",
    "    dt = float(T)/N\n",
    "    t = np.linspace(0, T, N)\n",
    "    W = np.random.standard_normal(size = N) \n",
    "    W = np.cumsum(W)*np.sqrt(dt) # standard brownian motion\n",
    "    X = (mu-0.5*sigma**2)*t + sigma*W \n",
    "    S = S0*np.exp(X) # geometric brownian motion\n",
    "    return S"
   ]
  },
  {
   "cell_type": "code",
   "execution_count": 10,
   "metadata": {},
   "outputs": [],
   "source": [
    "np.random.seed(1)\n",
    "points = hv.Points(np.random.multivariate_normal((0,0), [[0.1, 0.1], [0.1, 1.0]], (1000000,)),label=\"Points\")\n",
    "paths = hv.Path([0.15*random_walk(100000) for i in range(10)],label=\"Paths\")\n",
    "decimate(points) + datashade(points) + datashade(paths)\n"
   ]
  },
  {
   "cell_type": "code",
   "execution_count": 11,
   "metadata": {},
   "outputs": [],
   "source": [
    "shade(aggregate(paths), normalization='log')"
   ]
  },
  {
   "cell_type": "code",
   "execution_count": 12,
   "metadata": {
    "collapsed": true
   },
   "outputs": [],
   "source": [
    "datashade(points, aggregator=ds.reductions.mean('val'))"
   ]
  },
  {
   "cell_type": "code",
   "execution_count": 13,
   "metadata": {},
   "outputs": [],
   "source": [
    "Y, X = (np.mgrid[0:100, 0:100]-50.)/20.\n",
    "\n",
    "img = hv.Image(np.sin(X**2+Y**2))\n",
    "\n",
    "def func(x_range, y_range):\n",
    "    hv_img1 = hv.Image(img, extents=(-0.3,-0.3,0.3,0.3))\n",
    "    re1 = shade(regrid(hv_img1, dynamic=False, x_range=x_range, y_range=y_range), dynamic=False)\n",
    "    re1.extents=(-0.3,-0.3,0.3,0.3)\n",
    "    return re1\n",
    "\n",
    "hv_img2 = hv.Image(img, bounds=(-0.5,-0.5,0.5,0.5), extents=(-0.2, -0.2, 0.2, 0.2))\n",
    "hv_img2.redim(x={'range': (-0.2,0.2)})\n",
    "#rangexy = hv.streams.RangeXY(source=hv_img1)\n",
    "re2 = regrid(hv_img2)\n",
    "\n",
    "hv.DynamicMap(func, streams=[hv.streams.RangeXY()]) + re2"
   ]
  },
  {
   "cell_type": "code",
   "execution_count": 14,
   "metadata": {},
   "outputs": [],
   "source": [
    "aggregate(hv_img2, aggregator=ds.mean('z'), x_sampling=.01, y_sampling=.01)"
   ]
  },
  {
   "cell_type": "code",
   "execution_count": 15,
   "metadata": {},
   "outputs": [],
   "source": [
    "%%opts RGB [width=400] {+axiswise}\n",
    "\n",
    "np.random.seed(3)\n",
    "kdims=['d1','d2']\n",
    "num_ks=8\n",
    "\n",
    "def rand_gauss2d():\n",
    "    return 100*np.random.multivariate_normal(np.random.randn(2), random_cov(), (100000,))\n",
    "\n",
    "gaussians = {i: hv.Points(rand_gauss2d(), kdims) for i in range(num_ks)}\n",
    "lines = {i: hv.Curve(time_series(N=10000, S0=200+np.random.rand())) for i in range(num_ks)}\n",
    "\n",
    "gaussspread = dynspread(datashade(hv.NdOverlay(gaussians, kdims='k'), aggregator=ds.count_cat('k')))\n",
    "linespread  = dynspread(datashade(hv.NdOverlay(lines,     kdims='k'), aggregator=ds.count_cat('k')))\n",
    "\n",
    "gaussspread + linespread"
   ]
  },
  {
   "cell_type": "code",
   "execution_count": 16,
   "metadata": {
    "collapsed": true
   },
   "outputs": [],
   "source": [
    "%%opts ErrorBars [show_legend=True] (line_color=Cycle(['#FF0000','#00FF00']))\n",
    "%%opts NdOverlay [show_legend=True]\n",
    "\n",
    "error = {}\n",
    "error['one'] = hv.ErrorBars( np.random.rand(10,3), label='one')\n",
    "error['two'] = hv.ErrorBars( np.random.rand(10,3), label='two')\n",
    "error_over = hv.NdOverlay(error)\n",
    "\n",
    "error_over"
   ]
  },
  {
   "cell_type": "code",
   "execution_count": 17,
   "metadata": {
    "scrolled": false
   },
   "outputs": [],
   "source": [
    "def shapes(N, radius=0.5): # Positional keyword arguments are fine\n",
    "    paths = [hv.Path([[(radius*np.sin(a), radius*np.cos(a)) \n",
    "                        for a in np.linspace(-np.pi, np.pi, n+2)]], \n",
    "                     extents=(-1,-1,1,1)) \n",
    "             for n in range(N,N+3)]\n",
    "    return hv.Overlay(paths)\n",
    "\n",
    "holomap = hv.HoloMap({(N,r):shapes(N, r) for N in [3,4,5] for r in [0.5,0.75]},  kdims=['N', 'radius'])\n",
    "dmap = hv.DynamicMap(shapes, kdims=['N','radius'])\n",
    "holomap + dmap"
   ]
  },
  {
   "cell_type": "code",
   "execution_count": 18,
   "metadata": {},
   "outputs": [],
   "source": [
    "dmap.data"
   ]
  },
  {
   "cell_type": "code",
   "execution_count": 19,
   "metadata": {},
   "outputs": [],
   "source": [
    "hmap = hv.HoloMap(dmap.data, kdims=['N', 'radius'])\n",
    "hmap"
   ]
  },
  {
   "cell_type": "code",
   "execution_count": 20,
   "metadata": {},
   "outputs": [],
   "source": [
    "frequencies = [0.5, 0.75, 1.0, 1.25]\n",
    "\n",
    "def sine_curve(phase, freq):\n",
    "    xvals = [0.1* i for i in range(100)]\n",
    "    return hv.Curve((xvals, [np.sin(phase+freq*x) for x in xvals]))\n",
    "\n",
    "# When run live, this cell's output should match the behavior of the GIF below\n",
    "dmap = hv.DynamicMap(sine_curve, kdims=['phase', 'frequency'])\n",
    "dmap.redim.range(phase=(0.5,1)).redim.range(frequency=(0.5,1.25))"
   ]
  },
  {
   "cell_type": "code",
   "execution_count": 21,
   "metadata": {},
   "outputs": [],
   "source": [
    "dmap.data"
   ]
  },
  {
   "cell_type": "code",
   "execution_count": 22,
   "metadata": {},
   "outputs": [],
   "source": [
    "hv.HoloMap(dmap)"
   ]
  },
  {
   "cell_type": "code",
   "execution_count": null,
   "metadata": {},
   "outputs": [],
   "source": []
  }
 ],
 "metadata": {
  "git": {
   "suppress_outputs": true
  },
  "kernelspec": {
   "display_name": "Python 3",
   "language": "python",
   "name": "python3"
  },
  "language_info": {
   "codemirror_mode": {
    "name": "ipython",
    "version": 3
   },
   "file_extension": ".py",
   "mimetype": "text/x-python",
   "name": "python",
   "nbconvert_exporter": "python",
   "pygments_lexer": "ipython3",
   "version": "3.7.1"
  }
 },
 "nbformat": 4,
 "nbformat_minor": 2
}