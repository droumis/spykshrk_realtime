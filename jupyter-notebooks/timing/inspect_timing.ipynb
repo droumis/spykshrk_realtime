{
 "cells": [
  {
   "cell_type": "code",
   "execution_count": 1,
   "metadata": {},
   "outputs": [],
   "source": [
    "# This snippet of code properly adds the working source root path to python's path\n",
    "# so you no longer have to install spykshrk through setuptools\n",
    "import sys, os\n",
    "root_depth = 2\n",
    "notebook_dir = globals()['_dh'][0]\n",
    "root_path = os.path.abspath(os.path.join(notebook_dir, '../'*root_depth))\n",
    "# Add to python's path\n",
    "try:\n",
    "    while True:\n",
    "        sys.path.remove(root_path)\n",
    "except ValueError:\n",
    "    # no more root paths\n",
    "    pass\n",
    "sys.path.append(root_path)\n",
    "# Alternatively set root path as current working directory\n",
    "#os.chdir(root_path)"
   ]
  },
  {
   "cell_type": "code",
   "execution_count": 2,
   "metadata": {},
   "outputs": [],
   "source": [
    "import sys\n",
    "import pandas as pd\n",
    "sys.path.append(\"/home/daliu/Src/spykshrk_realtime/\")\n",
    "from spykshrk.realtime.timing_system import TimingFileReader, TimingMessage\n",
    "\n",
    "import matplotlib.pyplot as plt\n",
    "\n",
    "\n",
    "import bokeh\n",
    "from bokeh.plotting import figure, output_notebook, show, gridplot, reset_output\n",
    "from bokeh.io import push_notebook\n",
    "\n",
    "output_notebook()"
   ]
  },
  {
   "cell_type": "code",
   "execution_count": 8,
   "metadata": {
    "collapsed": true,
    "scrolled": false
   },
   "outputs": [],
   "source": [
    "rec_dir = '/opt/data36/daliu/realtime/spykshrk/bond_test'\n",
    "# rec_dir = '/home/daliu/output/test'\n",
    "mpi_ranks = [0]\n",
    "file_prefix = 'test_animal'\n",
    "file_postfix = 'timing'\n",
    "\n",
    "for rank in mpi_ranks:\n",
    "    reader = TimingFileReader(save_dir=rec_dir, file_prefix=file_prefix, mpi_rank=rank, file_postfix=file_postfix)\n",
    "    timing_data = reader.convert_panda_labels()\n",
    "        "
   ]
  },
  {
   "cell_type": "code",
   "execution_count": 9,
   "metadata": {
    "collapsed": true
   },
   "outputs": [],
   "source": [
    "timing_lfp = timing_data['lfp']\n",
    "\n",
    "rip1_timing_lfp = timing_lfp[timing_lfp['rank1'] == 2]\n",
    "rip2_timing_lfp = timing_lfp[timing_lfp['rank1'] == 3]\n",
    "rip1_latency = rip1_timing_lfp['time2'] - rip1_timing_lfp['time0']\n",
    "rip2_latency = rip2_timing_lfp['time2'] - rip2_timing_lfp['time0']\n"
   ]
  },
  {
   "cell_type": "code",
   "execution_count": 58,
   "metadata": {},
   "outputs": [],
   "source": [
    "plt.figure(figsize=[20,20])\n",
    "plt.plot(rip1_latency, 'o', color='#FF0000', alpha=1)\n",
    "plt.plot(rip2_latency, 'o', color='#0000FF', alpha=0.5)\n",
    "plt.grid(True)\n",
    "\n",
    "plt.xlim([0,1000])\n",
    "plt.show()"
   ]
  },
  {
   "cell_type": "code",
   "execution_count": 35,
   "metadata": {},
   "outputs": [],
   "source": [
    "s1 = figure(plot_width=900, plot_height=400)\n",
    "l1 = s1.scatter(x=rip1_latency.index, y=rip1_latency, color='#0000FF')\n",
    "l2 = s1.scatter(x=rip2_latency.index, y=rip2_latency, color='#6666FF')\n",
    "handle=show(s1, notebook_handle=True)"
   ]
  },
  {
   "cell_type": "code",
   "execution_count": 29,
   "metadata": {},
   "outputs": [],
   "source": [
    "l1.data_source.data['x'] = rip1_latency.index\n",
    "l1.data_source.data['y'] = rip1_latency\n",
    "l1.glyph.\n",
    "push_notebook(handle=handle)"
   ]
  }
 ],
 "metadata": {
  "git": {
   "suppress_outputs": true
  },
  "kernelspec": {
   "display_name": "Python 3",
   "language": "python",
   "name": "python3"
  },
  "language_info": {
   "codemirror_mode": {
    "name": "ipython",
    "version": 3
   },
   "file_extension": ".py",
   "mimetype": "text/x-python",
   "name": "python",
   "nbconvert_exporter": "python",
   "pygments_lexer": "ipython3",
   "version": "3.7.1"
  }
 },
 "nbformat": 4,
 "nbformat_minor": 2
}