{
 "cells": [
  {
   "cell_type": "code",
   "execution_count": 1,
   "metadata": {},
   "outputs": [],
   "source": [
    "cd /home/daliu/Src/spykshrk_realtime/"
   ]
  },
  {
   "cell_type": "code",
   "execution_count": 2,
   "metadata": {},
   "outputs": [],
   "source": [
    "import pandas as pd\n",
    "\n",
    "from spykshrk.franklab.franklab_data import FrankAnimalInfo, FrankFilenameParser"
   ]
  },
  {
   "cell_type": "code",
   "execution_count": 3,
   "metadata": {},
   "outputs": [],
   "source": [
    "anim = FrankAnimalInfo('/opt/data36/daliu/', 'pyBond')"
   ]
  },
  {
   "cell_type": "code",
   "execution_count": 4,
   "metadata": {},
   "outputs": [
    {
     "data": {
      "text/plain": [
       "/analysis/decode/clusterless/run1._v_attrs (AttributeSet), 16 attributes:\n",
       "   [CLASS := 'GROUP',\n",
       "    TITLE := '',\n",
       "    VERSION := '1.0',\n",
       "    axis0_variety := 'regular',\n",
       "    axis1_nlevels := 4,\n",
       "    axis1_variety := 'multi',\n",
       "    block0_items_variety := 'regular',\n",
       "    classtype := <class 'spykshrk.franklab.data_containers.Posteriors'>,\n",
       "    encoding := 'UTF-8',\n",
       "    history := [(<class 'pandas.core.frame.DataFrame'>, '                                 x000  x001  x002  x003  x004  x005  x006    ...     x445  x446  x447  x448  x449  \\\\\\nday epoch timestamp     time                                                 ...                                    \\n4   1     73,830,000.0  2,461.0   0.0   0.0   0.0   0.0   0.0   0.0   0.0    ...      0.0   0.0   0.0   0.0   0.0   \\n          73,830,030.0  2,461.0   0.0   0.0   0.0   0.0   0.0   0.0   0.0    ...      0.0   0.0   0.0   0.0   0.0   \\n          73,830,060.0  2,461.0   0.0   0.0   0.0   0.0   0.0   0.0   0.0    ...      0.0   0.0   0.0   0.0   0.0   \\n...                               ...   ...   ...   ...   ...   ...   ...    ...      ...   ...   ...   ...   ...   \\n          102,149,910.0 3,405.0   0.0   0.0   0.0   0.0   0.0   0.0   0.0    ...      0.0   0.0   0.0   0.0   0.0   \\n          102,149,940.0 3,405.0   0.0   0.0   0.0   0.0   0.0   0.0   0.0    ...      0.0   0.0   0.0   0.0   0.0   \\n          102,149,970.0 3,405.0   0.0   0.0   0.0   0.0   0.0   0.1   0.1    ...      0.0   0.0   0.0   0.0   0.0   \\n\\n                                 num_spikes   dec_bin  \\nday epoch timestamp     time                           \\n4   1     73,830,000.0  2,461.0         1.0       0.0  \\n          73,830,030.0  2,461.0         3.0       1.0  \\n          73,830,060.0  2,461.0         4.0       2.0  \\n...                                     ...       ...  \\n          102,149,910.0 3,405.0         1.0 943,997.0  \\n          102,149,940.0 3,405.0         0.0 943,998.0  \\n          102,149,970.0 3,405.0         1.0 943,999.0  \\n\\n[943998 rows x 452 columns]'), (<class 'spykshrk.franklab.data_containers.Posteriors'>, None)],\n",
       "    kwds := {'sampling_rate': 30000, 'enc_settings': <spykshrk.franklab.data_containers.EncodeSettings object at 0x7fa5d4afba90>, 'dec_settings': <spykshrk.franklab.data_containers.DecodeSettings object at 0x7fa5ccda25f8>, 'start_times': [2461.0], 'start_timestamps': [73830000.0]},\n",
       "    nblocks := 1,\n",
       "    ndim := 2,\n",
       "    pandas_type := 'frame',\n",
       "    pandas_version := '0.15.2',\n",
       "    uuid := None]"
      ]
     },
     "execution_count": 4,
     "metadata": {},
     "output_type": "execute_result"
    }
   ],
   "source": [
    "store = pd.HDFStore(anim.data_paths.path[0])\n",
    "s = store.get_storer(store.keys()[0])\n",
    "s.attrs"
   ]
  },
  {
   "cell_type": "code",
   "execution_count": 5,
   "metadata": {},
   "outputs": [
    {
     "data": {
      "text/plain": [
       "['/analysis/decode/clusterless/run1']"
      ]
     },
     "execution_count": 5,
     "metadata": {},
     "output_type": "execute_result"
    }
   ],
   "source": [
    "store.keys()"
   ]
  },
  {
   "cell_type": "code",
   "execution_count": 6,
   "metadata": {},
   "outputs": [],
   "source": [
    "store.close()"
   ]
  },
  {
   "cell_type": "code",
   "execution_count": 7,
   "metadata": {},
   "outputs": [
    {
     "data": {
      "text/plain": [
       "'h5'"
      ]
     },
     "execution_count": 7,
     "metadata": {},
     "output_type": "execute_result"
    }
   ],
   "source": [
    "parse = FrankFilenameParser('bond_data.h5')\n",
    "parse.ext"
   ]
  }
 ],
 "metadata": {
  "kernelspec": {
   "display_name": "Python 3",
   "language": "python",
   "name": "python3"
  },
  "language_info": {
   "codemirror_mode": {
    "name": "ipython",
    "version": 3
   },
   "file_extension": ".py",
   "mimetype": "text/x-python",
   "name": "python",
   "nbconvert_exporter": "python",
   "pygments_lexer": "ipython3",
   "version": "3.6.4"
  }
 },
 "nbformat": 4,
 "nbformat_minor": 2
}
