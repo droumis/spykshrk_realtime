{
 "cells": [
  {
   "cell_type": "code",
   "execution_count": 1,
   "metadata": {},
   "outputs": [],
   "source": [
    "import numpy as np\n",
    "import numpy.linalg\n",
    "import scipy as sp\n",
    "import scipy.stats\n",
    "import matplotlib.pyplot as plt\n",
    "\n",
    "%load_ext Cython\n"
   ]
  },
  {
   "cell_type": "code",
   "execution_count": 6,
   "metadata": {},
   "outputs": [],
   "source": [
    "num_marks = 4\n",
    "num_spikes = 100\n",
    "num_pos_bins = 10\n",
    "max_pos_bin = 20\n",
    "\n",
    "marks = np.tile(np.array([np.arange(10,110,100/num_spikes)]).T, (1,num_marks))\n",
    "\n",
    "pos_bins = np.arange(0, max_pos_bin, max_pos_bin/num_pos_bins)\n",
    "\n",
    "pos_spikes = np.arange(0,pos_bins[-1], pos_bins[-1]/num_spikes)\n",
    "\n",
    "pos_spikes = np.sin(pos_spikes) * max_pos_bin/2 +  max_pos_bin/2\n",
    "\n",
    "mark_kernel_sd = 2\n",
    "pos_kernel_sd = 2"
   ]
  },
  {
   "cell_type": "code",
   "execution_count": 32,
   "metadata": {},
   "outputs": [],
   "source": [
    "%%prun -r -s cumulative\n",
    "spike_pos_dist = sp.stats.norm.pdf(np.expand_dims(pos_bins, 0), \n",
    "                                   np.expand_dims(pos_spikes, 1),\n",
    "                                   pos_kernel_sd)\n",
    "\n",
    "dec_est = np.zeros([marks.shape[0], len(pos_bins)])\n",
    "for dec_spk_ii, decode_mark in enumerate(marks):\n",
    "    mark_contrib = np.prod(sp.stats.norm.pdf(decode_mark, marks, mark_kernel_sd), axis=1)\n",
    "    dec_est[dec_spk_ii, :] = np.matmul(mark_contrib, spike_pos_dist)\n",
    "    "
   ]
  },
  {
   "cell_type": "code",
   "execution_count": 33,
   "metadata": {},
   "outputs": [],
   "source": [
    "pos_bins"
   ]
  },
  {
   "cell_type": "code",
   "execution_count": 34,
   "metadata": {},
   "outputs": [],
   "source": [
    "plt.figure(figsize=[10,10])\n",
    "plt.imshow(dec_est, extent=[pos_bins[0], pos_bins[-1], marks.shape[0], 0])\n",
    "plt.show()"
   ]
  },
  {
   "cell_type": "code",
   "execution_count": null,
   "metadata": {},
   "outputs": [],
   "source": []
  }
 ],
 "metadata": {
  "git": {
   "suppress_outputs": true
  },
  "kernelspec": {
   "display_name": "Python 3",
   "language": "python",
   "name": "python3"
  },
  "language_info": {
   "codemirror_mode": {
    "name": "ipython",
    "version": 3
   },
   "file_extension": ".py",
   "mimetype": "text/x-python",
   "name": "python",
   "nbconvert_exporter": "python",
   "pygments_lexer": "ipython3",
   "version": "3.7.1"
  }
 },
 "nbformat": 4,
 "nbformat_minor": 2
}