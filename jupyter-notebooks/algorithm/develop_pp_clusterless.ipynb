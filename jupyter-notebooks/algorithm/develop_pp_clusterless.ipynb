{
 "cells": [
  {
   "cell_type": "code",
   "execution_count": 7,
   "metadata": {
    "collapsed": true
   },
   "outputs": [],
   "source": [
    "import numpy as np\n",
    "import scipy as sp\n",
    "import matplotlib.pyplot as plt"
   ]
  },
  {
   "cell_type": "code",
   "execution_count": 164,
   "metadata": {
    "scrolled": false
   },
   "outputs": [],
   "source": [
    "def gaussian(x, mu, sig):\n",
    "    return np.exp(-np.power(x - mu, 2.) / (2 * np.power(sig, 2.)))\n",
    "\n",
    "delta = 1\n",
    "\n",
    "start_x = 0\n",
    "end_x = 9.8\n",
    "num_bins = 50\n",
    "\n",
    "x_bins = np.linspace(start_x, end_x, num_bins)\n",
    "spk1 = gaussian(x_bins, 5, 1)\n",
    "spk1 = spk1/(spk1.sum() * num_bins / (end_x - start_x))\n",
    "spk2 = gaussian(x_bins, 6, 1)\n",
    "spk2 = spk2/(spk2.sum() * num_bins / (end_x - start_x))\n",
    "\n",
    "firing_rate = np.ones(len(x_bins)) + gaussian(x_bins, 4,1)\n",
    "#firing_rate = firing_rate/(firing_rate.sum() * num_bins / (end_x - start_x))\n",
    "\n",
    "plt.figure()\n",
    "plt.plot(x_bins, spk1)\n",
    "plt.plot(x_bins, spk2)\n",
    "plt.figure()\n",
    "plt.plot(x_bins, firing_rate)\n",
    "plt.show()\n"
   ]
  },
  {
   "cell_type": "code",
   "execution_count": 82,
   "metadata": {},
   "outputs": [],
   "source": [
    "plt.plot(np.arange(0,5,0.1), np.exp(-np.arange(0,5,0.1)))\n",
    "plt.show()"
   ]
  },
  {
   "cell_type": "code",
   "execution_count": 91,
   "metadata": {},
   "outputs": [],
   "source": [
    "prob_0 = np.exp(-delta * firing_rate)\n",
    "\n",
    "evidence = spk1 * spk2 * delta\n",
    "\n",
    "likelihood = evidence * prob_0\n",
    "\n",
    "plt.plot(x_bins, evidence)\n",
    "plt.plot(x_bins, likelihood)\n",
    "plt.show()\n"
   ]
  },
  {
   "cell_type": "code",
   "execution_count": 172,
   "metadata": {
    "scrolled": false
   },
   "outputs": [],
   "source": [
    "transition_mat = np.ones([num_bins, num_bins])\n",
    "\n",
    "#gap1 = [15, 20]\n",
    "#gap2 = [30, 35]\n",
    "\n",
    "for bin_ii in range(num_bins):\n",
    "    transition_mat[bin_ii, :] = gaussian(x_bins, x_bins[bin_ii], 1)\n",
    "\n",
    "#transition_mat[gap1[1]:,:] = transition_mat[gap1[0]:-5,:]\n",
    "#transition_mat[gap1[0]:gap1[1],:] = 0\n",
    "#transition_mat[:, gap1[0]:gap1[1]] = 0\n",
    "    \n",
    "plt.imshow(transition_mat)\n",
    "plt.show()"
   ]
  },
  {
   "cell_type": "code",
   "execution_count": 156,
   "metadata": {},
   "outputs": [],
   "source": [
    "last_likelihood = gaussian(x_bins, 4, 1)\n",
    "\n",
    "history_mat = transition_gaus * last_likelihood\n",
    "\n",
    "plt.imshow(history_mat)\n",
    "plt.show()"
   ]
  },
  {
   "cell_type": "code",
   "execution_count": 178,
   "metadata": {},
   "outputs": [],
   "source": [
    "\n",
    "hist_int = history_mat.sum(axis=1)\n",
    "print(hist_int.shape)\n",
    "\n",
    "plt.plot(x_bins, hist_int)\n",
    "plt.show()"
   ]
  },
  {
   "cell_type": "code",
   "execution_count": 163,
   "metadata": {},
   "outputs": [],
   "source": [
    "plt.plot(x_bins, likelihood * hist_int)\n",
    "plt.show()"
   ]
  }
 ],
 "metadata": {
  "git": {
   "suppress_outputs": true
  },
  "kernelspec": {
   "display_name": "Python 3",
   "language": "python",
   "name": "python3"
  },
  "language_info": {
   "codemirror_mode": {
    "name": "ipython",
    "version": 3
   },
   "file_extension": ".py",
   "mimetype": "text/x-python",
   "name": "python",
   "nbconvert_exporter": "python",
   "pygments_lexer": "ipython3",
   "version": "3.7.1"
  }
 },
 "nbformat": 4,
 "nbformat_minor": 2
}